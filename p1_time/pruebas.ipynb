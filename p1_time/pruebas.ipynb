{
 "cells": [
  {
   "cell_type": "code",
   "execution_count": 1,
   "metadata": {},
   "outputs": [
    {
     "name": "stdout",
     "output_type": "stream",
     "text": [
      "Tiempo actual: 1711116073.4191658\n",
      "Desfase: 0.07525327883299492\n",
      "Tiempo desfasado: 1711116073.494419\n"
     ]
    }
   ],
   "source": [
    "import time\n",
    "import random\n",
    "\n",
    "# Generar un desfase aleatorio entre 0.01 y 0.1 segundos\n",
    "desfase = random.uniform(0.01, 0.1)\n",
    "\n",
    "# Obtener el tiempo actual en segundos con precisión de décimas de segundo\n",
    "tiempo_actual = time.time()\n",
    "\n",
    "# Agregar el desfase al tiempo actual\n",
    "tiempo_desfasado = tiempo_actual + desfase\n",
    "\n",
    "print(\"Tiempo actual:\", tiempo_actual)\n",
    "print(\"Desfase:\", desfase)\n",
    "print(\"Tiempo desfasado:\", tiempo_desfasado)"
   ]
  },
  {
   "cell_type": "code",
   "execution_count": 39,
   "metadata": {},
   "outputs": [
    {
     "name": "stdout",
     "output_type": "stream",
     "text": [
      "Tiempo actual: 08:46:10:866676\n",
      "Desfase: 0.8998648318129254\n",
      "Tiempo desfasado: 08:46:11:766541\n"
     ]
    }
   ],
   "source": [
    "import random\n",
    "from datetime import datetime, timedelta \n",
    "\n",
    "# Generar un desfase aleatorio entre 0.5 y 1 segundos\n",
    "desfase = random.uniform(0.5, 1)\n",
    "\n",
    "# Obtener el tiempo actual con precisión de microsegundos\n",
    "tiempo_actual = datetime.now()\n",
    "\n",
    "# Agregar el desfase al tiempo actual\n",
    "tiempo_desfasado = tiempo_actual + timedelta(seconds=desfase)\n",
    "\n",
    "# Formatear el tiempo actual y el tiempo desfasado en el formato hora:mm:ss:ms\n",
    "tiempo_actual_formateado = tiempo_actual.strftime(\"%H:%M:%S:%f\")\n",
    "tiempo_desfasado_formateado = tiempo_desfasado.strftime(\"%H:%M:%S:%f\")\n",
    "\n",
    "print(\"Tiempo actual:\", tiempo_actual_formateado)\n",
    "print(\"Desfase:\", desfase)\n",
    "print(\"Tiempo desfasado:\", tiempo_desfasado_formateado)\n",
    "\n"
   ]
  },
  {
   "cell_type": "code",
   "execution_count": 40,
   "metadata": {},
   "outputs": [
    {
     "name": "stdout",
     "output_type": "stream",
     "text": [
      "Diferencia en horas: -1088904.0005761837 horas\n"
     ]
    }
   ],
   "source": [
    "from datetime import datetime\n",
    "\n",
    "# Convertir las cadenas de texto a objetos datetime\n",
    "tiempo_desfasado = datetime.strptime(tiempo_desfasado_formateado, \"%H:%M:%S:%f\")\n",
    "nueva_hora = datetime.now()\n",
    "\n",
    "# Calcular la diferencia entre los tiempos\n",
    "diferencia = tiempo_desfasado - nueva_hora\n",
    "\n",
    "# Calcular la diferencia en horas\n",
    "diferencia_en_horas = diferencia.total_seconds() / 3600\n",
    "\n",
    "print(f\"Diferencia en horas: {diferencia_en_horas} horas\")\n"
   ]
  },
  {
   "cell_type": "code",
   "execution_count": 45,
   "metadata": {},
   "outputs": [
    {
     "ename": "AttributeError",
     "evalue": "'function' object has no attribute 'toString'",
     "output_type": "error",
     "traceback": [
      "\u001b[1;31m---------------------------------------------------------------------------\u001b[0m",
      "\u001b[1;31mAttributeError\u001b[0m                            Traceback (most recent call last)",
      "Cell \u001b[1;32mIn[45], line 16\u001b[0m\n\u001b[0;32m     12\u001b[0m     \u001b[38;5;66;03m#print \"hora Cliente 1 -> \" + str(horaTotal)\u001b[39;00m\n\u001b[0;32m     14\u001b[0m     \u001b[38;5;28;01mreturn\u001b[39;00m horaTotal \n\u001b[1;32m---> 16\u001b[0m \u001b[38;5;28mprint\u001b[39m(\u001b[38;5;124mf\u001b[39m\u001b[38;5;124m\"\u001b[39m\u001b[38;5;124mHora cliente: \u001b[39m\u001b[38;5;132;01m{\u001b[39;00m\u001b[43mgetHoraCliente1\u001b[49m\u001b[38;5;241;43m.\u001b[39;49m\u001b[43mtoString\u001b[49m\u001b[38;5;132;01m}\u001b[39;00m\u001b[38;5;124m\"\u001b[39m)\n",
      "\u001b[1;31mAttributeError\u001b[0m: 'function' object has no attribute 'toString'"
     ]
    }
   ],
   "source": [
    "def getHoraCliente1():\n",
    "\n",
    "    #horaServidor = horaServer.split(' ') # guardo la hora del servidor en una lista\n",
    "\n",
    "    horaUTC = time.localtime() # se define horaUTC obteniendo la hora local\n",
    "    desface = 20\n",
    "    minutos  = int(horaUTC[3])*60 + int(horaUTC[4])+ desface # se cambia la hora a minutos con desface\n",
    "    #print \"minutos : \"+ str(minutos)\n",
    "\n",
    "\n",
    "    horaTotal = [int(minutos/60), minutos%60] #se cambian los minutos a horas\n",
    "    #print \"hora Cliente 1 -> \" + str(horaTotal)\n",
    "\n",
    "    return horaTotal \n",
    "\n",
    "print(f\"Hora cliente: {getHoraCliente1.toString}\")\n"
   ]
  },
  {
   "cell_type": "code",
   "execution_count": 49,
   "metadata": {},
   "outputs": [
    {
     "name": "stdout",
     "output_type": "stream",
     "text": [
      "Hora cliente: 09:08\n"
     ]
    }
   ],
   "source": [
    "import time\n",
    "import random\n",
    "\n",
    "def getHoraCliente1(): \n",
    "    desface = int(random.uniform(5, 1))\n",
    "    horaUTC = time.localtime() \n",
    "    minutos = int(horaUTC.tm_hour) * 60 + int(horaUTC.tm_min) + desface  # Convertir la hora a minutos y agregar el desfase\n",
    "    horas = minutos // 60  # Obtener las horas\n",
    "    minutos = minutos % 60  # Obtener los minutos restantes\n",
    "\n",
    "    # Devolver la hora del cliente como una cadena formateada\n",
    "    return f\"{horas:02d}:{minutos:02d}\"\n",
    "\n",
    "hora_cliente = getHoraCliente1()\n",
    "print(f\"Hora cliente: {hora_cliente}\")\n"
   ]
  },
  {
   "cell_type": "code",
   "execution_count": 50,
   "metadata": {},
   "outputs": [
    {
     "name": "stdout",
     "output_type": "stream",
     "text": [
      "Hora 1: 09:14\n",
      "Hora 2: 09:12\n",
      "Diferencia en minutos: -2 minutos\n"
     ]
    }
   ],
   "source": [
    "import time\n",
    "import random\n",
    "\n",
    "def getHoraCliente(): \n",
    "    desface = int(random.uniform(1, 5))\n",
    "    horaUTC = time.localtime() \n",
    "    minutos = int(horaUTC.tm_hour) * 60 + int(horaUTC.tm_min) + desface  # Convertir la hora a minutos y agregar el desfase\n",
    "    horas = minutos // 60  # Obtener las horas\n",
    "    minutos = minutos % 60  # Obtener los minutos restantes\n",
    "\n",
    "    # Devolver la hora del cliente como una cadena formateada\n",
    "    return f\"{horas:02d}:{minutos:02d}\"\n",
    "\n",
    "def calcular_diferencia_horas(hora1, hora2):\n",
    "    # Convertir las cadenas de hora a minutos\n",
    "    horas_1, minutos_1 = map(int, hora1.split(':'))\n",
    "    horas_2, minutos_2 = map(int, hora2.split(':'))\n",
    "\n",
    "    # Calcular la diferencia en minutos entre las dos horas\n",
    "    diferencia_minutos = (horas_2 - horas_1) * 60 + (minutos_2 - minutos_1)\n",
    "    return diferencia_minutos\n",
    "\n",
    "# Generar dos horas aleatorias\n",
    "hora_1 = getHoraCliente()\n",
    "hora_2 = getHoraCliente()\n",
    "\n",
    "print(f\"Hora 1: {hora_1}\")\n",
    "print(f\"Hora 2: {hora_2}\")\n",
    "\n",
    "# Calcular la diferencia en minutos entre las dos horas\n",
    "diferencia_minutos = calcular_diferencia_horas(hora_1, hora_2)\n",
    "\n",
    "print(f\"Diferencia en minutos: {diferencia_minutos} minutos\")\n"
   ]
  },
  {
   "cell_type": "code",
   "execution_count": 51,
   "metadata": {},
   "outputs": [
    {
     "name": "stdout",
     "output_type": "stream",
     "text": [
      "Hora 1: 09:14:31:138\n",
      "Hora 2: 09:14:31:084\n",
      "Diferencia en horas: 0 horas, 0 minutos, 0 segundos, 54 milisegundos\n"
     ]
    }
   ],
   "source": [
    "import time\n",
    "import random\n",
    "\n",
    "def getHoraCliente(): \n",
    "    # Generar un desfase aleatorio entre 900 y 1200 milisegundos\n",
    "    desface_ms = random.randint(900, 1200)\n",
    "    horaUTC = time.localtime() \n",
    "    segundos = int(horaUTC.tm_hour) * 3600 + int(horaUTC.tm_min) * 60 + int(horaUTC.tm_sec)  # Convertir la hora a segundos\n",
    "    milisegundos = segundos * 1000 + desface_ms  # Convertir los segundos a milisegundos y agregar el desfase\n",
    "    horas = milisegundos // 3600000  # Obtener las horas\n",
    "    minutos = (milisegundos % 3600000) // 60000  # Obtener los minutos restantes\n",
    "    segundos = (milisegundos % 60000) // 1000  # Obtener los segundos restantes\n",
    "    milisegundos = milisegundos % 1000  # Obtener los milisegundos restantes\n",
    "\n",
    "    # Devolver la hora del cliente como una cadena formateada\n",
    "    return f\"{horas:02d}:{minutos:02d}:{segundos:02d}:{milisegundos:03d}\"\n",
    "\n",
    "def calcular_diferencia_horas(hora1, hora2):\n",
    "    # Convertir las cadenas de hora a milisegundos\n",
    "    horas_1, minutos_1, segundos_1, milisegundos_1 = map(int, hora1.split(':'))\n",
    "    milisegundos_totales_1 = horas_1 * 3600000 + minutos_1 * 60000 + segundos_1 * 1000 + milisegundos_1\n",
    "\n",
    "    horas_2, minutos_2, segundos_2, milisegundos_2 = map(int, hora2.split(':'))\n",
    "    milisegundos_totales_2 = horas_2 * 3600000 + minutos_2 * 60000 + segundos_2 * 1000 + milisegundos_2\n",
    "\n",
    "    # Calcular la diferencia en milisegundos entre las dos horas\n",
    "    diferencia_ms = abs(milisegundos_totales_2 - milisegundos_totales_1)\n",
    "\n",
    "    # Calcular la diferencia en horas, minutos, segundos y milisegundos\n",
    "    diferencia_horas = diferencia_ms // 3600000\n",
    "    diferencia_ms = diferencia_ms % 3600000\n",
    "    diferencia_minutos = diferencia_ms // 60000\n",
    "    diferencia_ms = diferencia_ms % 60000\n",
    "    diferencia_segundos = diferencia_ms // 1000\n",
    "    diferencia_ms = diferencia_ms % 1000\n",
    "\n",
    "    return diferencia_horas, diferencia_minutos, diferencia_segundos, diferencia_ms\n",
    "\n",
    "# Generar dos horas aleatorias\n",
    "hora_1 = getHoraCliente()\n",
    "hora_2 = getHoraCliente()\n",
    "\n",
    "print(f\"Hora 1: {hora_1}\")\n",
    "print(f\"Hora 2: {hora_2}\")\n",
    "\n",
    "# Calcular la diferencia en horas, minutos, segundos y milisegundos entre las dos horas\n",
    "diferencia_horas, diferencia_minutos, diferencia_segundos, diferencia_ms = calcular_diferencia_horas(hora_1, hora_2)\n",
    "\n",
    "print(f\"Diferencia en horas: {diferencia_horas} horas, {diferencia_minutos} minutos, {diferencia_segundos} segundos, {diferencia_ms} milisegundos\")\n"
   ]
  },
  {
   "cell_type": "code",
   "execution_count": 98,
   "metadata": {},
   "outputs": [
    {
     "name": "stdout",
     "output_type": "stream",
     "text": [
      "Hora 1: 09:18:41:33\n",
      "Hora 2: 09:18:41:38\n",
      "Diferencia en horas: 0 horas, 0 minutos, 0 segundos, 5 centésimas de segundo\n"
     ]
    }
   ],
   "source": [
    "import time\n",
    "import random\n",
    "\n",
    "def getHoraCliente(): \n",
    "    # Generar un desfase aleatorio entre 900 y 1200 centésimas de segundo\n",
    "    desface_cs = random.randint(20, 50)\n",
    "    horaUTC = time.localtime() \n",
    "    segundos = int(horaUTC.tm_hour) * 3600 + int(horaUTC.tm_min) * 60 + int(horaUTC.tm_sec)  # Convertir la hora a segundos\n",
    "    centesimas = segundos * 100 + desface_cs  # Convertir los segundos a centésimas de segundo y agregar el desfase\n",
    "    horas = centesimas // 360000  # Obtener las horas\n",
    "    minutos = (centesimas % 360000) // 6000  # Obtener los minutos restantes\n",
    "    segundos = (centesimas % 6000) // 100  # Obtener los segundos restantes\n",
    "    centesimas = centesimas % 100  # Obtener las centésimas de segundo restantes\n",
    "\n",
    "    # Devolver la hora del cliente como una cadena formateada\n",
    "    return f\"{horas:02d}:{minutos:02d}:{segundos:02d}:{centesimas:02d}\"\n",
    "\n",
    "def calcular_diferencia_horas(hora1, hora2):\n",
    "    # Convertir las cadenas de hora a centésimas de segundo\n",
    "    horas_1, minutos_1, segundos_1, centesimas_1 = map(int, hora1.split(':'))\n",
    "    centesimas_totales_1 = horas_1 * 360000 + minutos_1 * 6000 + segundos_1 * 100 + centesimas_1\n",
    "\n",
    "    horas_2, minutos_2, segundos_2, centesimas_2 = map(int, hora2.split(':'))\n",
    "    centesimas_totales_2 = horas_2 * 360000 + minutos_2 * 6000 + segundos_2 * 100 + centesimas_2\n",
    "\n",
    "    # Calcular la diferencia en centésimas de segundo entre las dos horas\n",
    "    diferencia_cs = abs(centesimas_totales_2 - centesimas_totales_1)\n",
    "\n",
    "    # Calcular la diferencia en horas, minutos, segundos y centésimas de segundo\n",
    "    diferencia_horas = diferencia_cs // 360000\n",
    "    diferencia_cs = diferencia_cs % 360000\n",
    "    diferencia_minutos = diferencia_cs // 6000\n",
    "    diferencia_cs = diferencia_cs % 6000\n",
    "    diferencia_segundos = diferencia_cs // 100\n",
    "    diferencia_cs = diferencia_cs % 100\n",
    "\n",
    "    return diferencia_horas, diferencia_minutos, diferencia_segundos, diferencia_cs\n",
    "\n",
    "# Generar dos horas aleatorias\n",
    "hora_1 = getHoraCliente()\n",
    "hora_2 = getHoraCliente()\n",
    "\n",
    "print(f\"Hora 1: {hora_1}\")\n",
    "print(f\"Hora 2: {hora_2}\")\n",
    "\n",
    "# Calcular la diferencia en horas, minutos, segundos y centésimas de segundo entre las dos horas\n",
    "diferencia_horas, diferencia_minutos, diferencia_segundos, diferencia_cs = calcular_diferencia_horas(hora_1, hora_2)\n",
    "\n",
    "print(f\"Diferencia en horas: {diferencia_horas} horas, {diferencia_minutos} minutos, {diferencia_segundos} segundos, {diferencia_cs} centésimas de segundo\")\n"
   ]
  },
  {
   "cell_type": "code",
   "execution_count": null,
   "metadata": {},
   "outputs": [],
   "source": [
    "import time\n",
    "import random\n",
    "from datetime import datetime\n",
    "\n",
    "class TuClase:\n",
    "    def getHoraCliente(self): \n",
    "        \"\"\"Genera hora del cliente con un desfase aleatorio de centesimas de segundo\"\"\" \n",
    "        desfase_cs = random.randint(7, 50)\n",
    "        horaUTC = time.localtime() \n",
    "        segundos = int(horaUTC.tm_hour) * 3600 + int(horaUTC.tm_min) * 60 + int(horaUTC.tm_sec)  # Convertir la hora a segundos\n",
    "        centesimas = segundos * 100 + desfase_cs  # Convertir los segundos a centésimas de segundo y agregar el desfase\n",
    "        horas = centesimas // 360000  # Obtener las horas\n",
    "        minutos = (centesimas % 360000) // 6000  # Obtener los minutos restantes\n",
    "        segundos = (centesimas % 6000) // 100  # Obtener los segundos restantes\n",
    "        centesimas = centesimas % 100  # Obtener las centésimas de segundo restantes\n",
    "\n",
    "        # Devolver la hora del cliente como un objeto datetime\n",
    "        return datetime(year=horaUTC.tm_year, month=horaUTC.tm_mon, day=horaUTC.tm_mday, \n",
    "                        hour=horas, minute=minutos, second=segundos, microsecond=centesimas * 10000)\n",
    "\n",
    "    def enviar_tiempo_al_servidor(self, tiempo):\n",
    "        \"\"\"\n",
    "        Envía el tiempo actual al servidor.\n",
    "\n",
    "        Args:\n",
    "            tiempo (datetime): El tiempo actual del sistema.\n",
    "        \"\"\"\n",
    "        tiempo_str = tiempo.strftime(\"%Y-%m-%d %H:%M:%S.%f\")  # Convertir el objeto datetime a una cadena de texto\n",
    "        self.cliente_socket.send(tiempo_str.encode())\n"
   ]
  },
  {
   "cell_type": "code",
   "execution_count": 101,
   "metadata": {},
   "outputs": [
    {
     "name": "stdout",
     "output_type": "stream",
     "text": [
      "2024-03-22 09:29:23.834972\n"
     ]
    }
   ],
   "source": [
    "def getHoraCliente(): \n",
    "    \"\"\"Genera hora del cliente con un desfase aleatorio de milisegundos\"\"\" \n",
    "    desfase_ms = random.randint(700, 5000)  # Desfase aleatorio en milisegundos\n",
    "    hora_actual = datetime.now()  # Obtener la hora actual\n",
    "    hora_desfasada = hora_actual + timedelta(milliseconds=desfase_ms)  # Agregar el desfase\n",
    "    return hora_desfasada\n",
    "\n",
    "hora_cliente = getHoraCliente()\n",
    "print(hora_cliente.strftime(\"%Y-%m-%d %H:%M:%S.%f\"))"
   ]
  }
 ],
 "metadata": {
  "kernelspec": {
   "display_name": "sd",
   "language": "python",
   "name": "python3"
  },
  "language_info": {
   "codemirror_mode": {
    "name": "ipython",
    "version": 3
   },
   "file_extension": ".py",
   "mimetype": "text/x-python",
   "name": "python",
   "nbconvert_exporter": "python",
   "pygments_lexer": "ipython3",
   "version": "3.12.1"
  }
 },
 "nbformat": 4,
 "nbformat_minor": 2
}
